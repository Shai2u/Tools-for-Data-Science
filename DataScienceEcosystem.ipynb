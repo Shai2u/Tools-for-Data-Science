{
 "cells": [
  {
   "cell_type": "markdown",
   "id": "1241dab7-a548-4fae-84ce-4f49b9180e41",
   "metadata": {},
   "source": [
    "# Data Science Tools and Ecosystem"
   ]
  },
  {
   "cell_type": "markdown",
   "id": "282a9645-41ea-4129-9a87-66dd6fa641e2",
   "metadata": {},
   "source": [
    "In this notebook, Data Science Tools and Ecosystem are summarized."
   ]
  },
  {
   "cell_type": "markdown",
   "id": "f4b97f79-a00c-4c36-9bda-a5d2d7761c71",
   "metadata": {},
   "source": [
    "Some of the popular languages that Data Scientists use are:\n",
    "1. Python\n",
    "2. R\n",
    "3. C++"
   ]
  },
  {
   "cell_type": "markdown",
   "id": "758f8213-6cfa-4db1-b430-550784cae5f6",
   "metadata": {},
   "source": [
    "Some of the commonly used libraries used by Data Scientists include:\n",
    "1. Pandas\n",
    "2. Numpy\n",
    "3. scikit-learn\n",
    "4. Matplotlib\n",
    "5. Seaborn\n",
    "6. Tensorflow\n",
    "7. Keras\n",
    "8. PyTorch"
   ]
  },
  {
   "cell_type": "markdown",
   "id": "6a3cdc5c-8967-446c-9b87-8e3d414390e9",
   "metadata": {},
   "source": [
    "|Data Science Tools|\n",
    "|------------------|\n",
    "|Jupyter Lab/Notebook|\n",
    "|Apache Zeppelin|\n",
    "|Spyder|"
   ]
  },
  {
   "cell_type": "markdown",
   "id": "a52cfefe-30c9-4ba3-bdbb-3f54a47dc170",
   "metadata": {},
   "source": [
    "### Below are a few examples of evaluating arithmetic expressions in Python.\n",
    "\n",
    "(1 + 1) * 3 / 4\n",
    "\n"
   ]
  },
  {
   "cell_type": "code",
   "execution_count": 2,
   "id": "2f06bd15-0dcf-482c-9ec9-d2981312ca93",
   "metadata": {},
   "outputs": [
    {
     "data": {
      "text/plain": [
       "17"
      ]
     },
     "execution_count": 2,
     "metadata": {},
     "output_type": "execute_result"
    }
   ],
   "source": [
    "# This a simple arithmetic expression to mutiply then add integers\n",
    "(3*4)+5"
   ]
  },
  {
   "cell_type": "code",
   "execution_count": 4,
   "id": "32ba76aa-6ab0-4dff-b14e-2172e01ffc0b",
   "metadata": {},
   "outputs": [
    {
     "data": {
      "text/plain": [
       "3.3333333333333335"
      ]
     },
     "execution_count": 4,
     "metadata": {},
     "output_type": "execute_result"
    }
   ],
   "source": [
    "# This will convert 200 minutes to hours by diving by 60.\n",
    "200/60"
   ]
  },
  {
   "cell_type": "markdown",
   "id": "42cd186c-cd70-425f-81bb-4d64d70a0c24",
   "metadata": {},
   "source": [
    "**Objectives:**\n",
    "- GIT\n",
    "- Github\n",
    "- R Studio\n",
    "- Jupyter Lab\n",
    "- Open Source Tools for Data Science"
   ]
  },
  {
   "cell_type": "markdown",
   "id": "7145100a-d339-4a31-9492-81b436fae907",
   "metadata": {},
   "source": [
    "## Author\n",
    "Shai Sussman"
   ]
  },
  {
   "cell_type": "code",
   "execution_count": null,
   "id": "74663786-5ebb-4116-baf1-fb1b31f67af6",
   "metadata": {},
   "outputs": [],
   "source": []
  }
 ],
 "metadata": {
  "kernelspec": {
   "display_name": "Python 3 (ipykernel)",
   "language": "python",
   "name": "python3"
  },
  "language_info": {
   "codemirror_mode": {
    "name": "ipython",
    "version": 3
   },
   "file_extension": ".py",
   "mimetype": "text/x-python",
   "name": "python",
   "nbconvert_exporter": "python",
   "pygments_lexer": "ipython3",
   "version": "3.10.9"
  }
 },
 "nbformat": 4,
 "nbformat_minor": 5
}
